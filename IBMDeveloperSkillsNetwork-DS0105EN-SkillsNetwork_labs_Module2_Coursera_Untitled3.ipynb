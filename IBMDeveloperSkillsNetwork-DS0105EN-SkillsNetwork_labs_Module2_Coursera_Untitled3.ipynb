{
  "metadata": {
    "language_info": {
      "codemirror_mode": {
        "name": "python",
        "version": 3
      },
      "file_extension": ".py",
      "mimetype": "text/x-python",
      "name": "python",
      "nbconvert_exporter": "python",
      "pygments_lexer": "ipython3",
      "version": "3.8"
    },
    "kernelspec": {
      "name": "python",
      "display_name": "Pyolite",
      "language": "python"
    }
  },
  "nbformat_minor": 4,
  "nbformat": 4,
  "cells": [
    {
      "cell_type": "markdown",
      "source": "# My Jupyter Notebook on IBM Watson Studio",
      "metadata": {}
    },
    {
      "cell_type": "markdown",
      "source": "**IJOGUN OLUWASEYI A.**\n\n(Data Scientist)\n",
      "metadata": {}
    },
    {
      "cell_type": "markdown",
      "source": "*I am interested in data science because i have passion for data driven story telling.*\n\n*Secondly, i love the dynamic nature in which data is been generated, processed and analysed.*",
      "metadata": {}
    },
    {
      "cell_type": "markdown",
      "source": "### I would be writing a short code on print odd numbers between 1-50",
      "metadata": {}
    },
    {
      "cell_type": "code",
      "source": "numbers = range (1,50,2)\nfor number in numbers:\n    print(number)",
      "metadata": {
        "trusted": true
      },
      "execution_count": 15,
      "outputs": [
        {
          "name": "stdout",
          "text": "1\n3\n5\n7\n9\n11\n13\n15\n17\n19\n21\n23\n25\n27\n29\n31\n33\n35\n37\n39\n41\n43\n45\n47\n49\n",
          "output_type": "stream"
        }
      ]
    },
    {
      "cell_type": "markdown",
      "source": "# Here are the list of tools in data science \n1 Python\n\n2 R-studio\n\n3 IBM SPSS\n\n\n#### ADVANTAGES of different analytics tools\nPython| R-studio| IBM SPSS\n--|--|--\nMost Popular| Popular| Great for analytics and visualization\nEasy to Use| Less easy to use| No code necessary\n",
      "metadata": {}
    },
    {
      "cell_type": "code",
      "source": "",
      "metadata": {},
      "execution_count": null,
      "outputs": []
    }
  ]
}